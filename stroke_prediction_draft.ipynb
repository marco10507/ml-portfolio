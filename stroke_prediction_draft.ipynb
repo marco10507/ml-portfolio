{
  "cells": [
    {
      "cell_type": "markdown",
      "metadata": {
        "id": "view-in-github",
        "colab_type": "text"
      },
      "source": [
        "<a href=\"https://colab.research.google.com/github/marco10507/ml-portfolio/blob/main/stroke_prediction_draft.ipynb\" target=\"_parent\"><img src=\"https://colab.research.google.com/assets/colab-badge.svg\" alt=\"Open In Colab\"/></a>"
      ]
    },
    {
      "cell_type": "code",
      "execution_count": null,
      "metadata": {
        "colab": {
          "base_uri": "https://localhost:8080/",
          "height": 107
        },
        "id": "bnhEQKMWgUvZ",
        "outputId": "c8ed2748-34c6-47c9-ed66-47f00ada727f"
      },
      "outputs": [
        {
          "name": "stderr",
          "output_type": "stream",
          "text": [
            "Downloading...\n",
            "From: https://drive.google.com/uc?id=1AbKB9-FUmOwJpAipx8ij4V60eLvPRCKr\n",
            "To: /content/healthcare-dataset-stroke-data.csv\n",
            "100%|██████████| 317k/317k [00:00<00:00, 68.9MB/s]\n"
          ]
        },
        {
          "data": {
            "application/vnd.google.colaboratory.intrinsic+json": {
              "type": "string"
            },
            "text/plain": [
              "'healthcare-dataset-stroke-data.csv'"
            ]
          },
          "execution_count": 1,
          "metadata": {},
          "output_type": "execute_result"
        }
      ],
      "source": [
        "import gdown\n",
        "from sklearn.model_selection import train_test_split, GridSearchCV\n",
        "from sklearn.ensemble import GradientBoostingClassifier\n",
        "from sklearn.metrics import classification_report\n",
        "\n",
        "file_id = '1AbKB9-FUmOwJpAipx8ij4V60eLvPRCKr'\n",
        "download_url = f'https://drive.google.com/uc?id={file_id}'\n",
        "gdown.download(download_url, 'healthcare-dataset-stroke-data.csv', quiet=False)"
      ]
    },
    {
      "cell_type": "code",
      "execution_count": null,
      "metadata": {
        "colab": {
          "base_uri": "https://localhost:8080/",
          "height": 640
        },
        "id": "2J9X9hFqjXJF",
        "outputId": "1659bb51-1436-46b2-f8d0-dc081f96f058"
      },
      "outputs": [
        {
          "name": "stdout",
          "output_type": "stream",
          "text": [
            "<class 'pandas.core.frame.DataFrame'>\n",
            "RangeIndex: 5110 entries, 0 to 5109\n",
            "Data columns (total 12 columns):\n",
            " #   Column             Non-Null Count  Dtype  \n",
            "---  ------             --------------  -----  \n",
            " 0   id                 5110 non-null   int64  \n",
            " 1   gender             5110 non-null   object \n",
            " 2   age                5110 non-null   float64\n",
            " 3   hypertension       5110 non-null   int64  \n",
            " 4   heart_disease      5110 non-null   int64  \n",
            " 5   ever_married       5110 non-null   object \n",
            " 6   work_type          5110 non-null   object \n",
            " 7   Residence_type     5110 non-null   object \n",
            " 8   avg_glucose_level  5110 non-null   float64\n",
            " 9   bmi                4909 non-null   float64\n",
            " 10  smoking_status     5110 non-null   object \n",
            " 11  stroke             5110 non-null   int64  \n",
            "dtypes: float64(3), int64(4), object(5)\n",
            "memory usage: 479.2+ KB\n"
          ]
        },
        {
          "data": {
            "application/vnd.google.colaboratory.intrinsic+json": {
              "summary": "{\n  \"name\": \"stroke_data\",\n  \"rows\": 8,\n  \"fields\": [\n    {\n      \"column\": \"id\",\n      \"properties\": {\n        \"dtype\": \"number\",\n        \"std\": 24739.068353587056,\n        \"min\": 67.0,\n        \"max\": 72940.0,\n        \"num_unique_values\": 8,\n        \"samples\": [\n          36517.82935420744,\n          36932.0,\n          5110.0\n        ],\n        \"semantic_type\": \"\",\n        \"description\": \"\"\n      }\n    },\n    {\n      \"column\": \"age\",\n      \"properties\": {\n        \"dtype\": \"number\",\n        \"std\": 1792.744047061404,\n        \"min\": 0.08,\n        \"max\": 5110.0,\n        \"num_unique_values\": 8,\n        \"samples\": [\n          43.226614481409,\n          45.0,\n          5110.0\n        ],\n        \"semantic_type\": \"\",\n        \"description\": \"\"\n      }\n    },\n    {\n      \"column\": \"hypertension\",\n      \"properties\": {\n        \"dtype\": \"number\",\n        \"std\": 1806.5874475501562,\n        \"min\": 0.0,\n        \"max\": 5110.0,\n        \"num_unique_values\": 5,\n        \"samples\": [\n          0.0974559686888454,\n          1.0,\n          0.29660667423379117\n        ],\n        \"semantic_type\": \"\",\n        \"description\": \"\"\n      }\n    },\n    {\n      \"column\": \"heart_disease\",\n      \"properties\": {\n        \"dtype\": \"number\",\n        \"std\": 1806.593204812832,\n        \"min\": 0.0,\n        \"max\": 5110.0,\n        \"num_unique_values\": 5,\n        \"samples\": [\n          0.05401174168297456,\n          1.0,\n          0.22606298750336543\n        ],\n        \"semantic_type\": \"\",\n        \"description\": \"\"\n      }\n    },\n    {\n      \"column\": \"avg_glucose_level\",\n      \"properties\": {\n        \"dtype\": \"number\",\n        \"std\": 1769.6002138244987,\n        \"min\": 45.28356015058198,\n        \"max\": 5110.0,\n        \"num_unique_values\": 8,\n        \"samples\": [\n          106.1476771037182,\n          91.88499999999999,\n          5110.0\n        ],\n        \"semantic_type\": \"\",\n        \"description\": \"\"\n      }\n    },\n    {\n      \"column\": \"bmi\",\n      \"properties\": {\n        \"dtype\": \"number\",\n        \"std\": 1724.2356567020183,\n        \"min\": 7.854066729680164,\n        \"max\": 4909.0,\n        \"num_unique_values\": 8,\n        \"samples\": [\n          28.893236911794666,\n          28.1,\n          4909.0\n        ],\n        \"semantic_type\": \"\",\n        \"description\": \"\"\n      }\n    },\n    {\n      \"column\": \"stroke\",\n      \"properties\": {\n        \"dtype\": \"number\",\n        \"std\": 1806.5940143142545,\n        \"min\": 0.0,\n        \"max\": 5110.0,\n        \"num_unique_values\": 5,\n        \"samples\": [\n          0.0487279843444227,\n          1.0,\n          0.2153198569802376\n        ],\n        \"semantic_type\": \"\",\n        \"description\": \"\"\n      }\n    }\n  ]\n}",
              "type": "dataframe"
            },
            "text/html": [
              "\n",
              "  <div id=\"df-347fee2a-eb9b-4b44-8370-eadb2d784fb1\" class=\"colab-df-container\">\n",
              "    <div>\n",
              "<style scoped>\n",
              "    .dataframe tbody tr th:only-of-type {\n",
              "        vertical-align: middle;\n",
              "    }\n",
              "\n",
              "    .dataframe tbody tr th {\n",
              "        vertical-align: top;\n",
              "    }\n",
              "\n",
              "    .dataframe thead th {\n",
              "        text-align: right;\n",
              "    }\n",
              "</style>\n",
              "<table border=\"1\" class=\"dataframe\">\n",
              "  <thead>\n",
              "    <tr style=\"text-align: right;\">\n",
              "      <th></th>\n",
              "      <th>id</th>\n",
              "      <th>age</th>\n",
              "      <th>hypertension</th>\n",
              "      <th>heart_disease</th>\n",
              "      <th>avg_glucose_level</th>\n",
              "      <th>bmi</th>\n",
              "      <th>stroke</th>\n",
              "    </tr>\n",
              "  </thead>\n",
              "  <tbody>\n",
              "    <tr>\n",
              "      <th>count</th>\n",
              "      <td>5110.000000</td>\n",
              "      <td>5110.000000</td>\n",
              "      <td>5110.000000</td>\n",
              "      <td>5110.000000</td>\n",
              "      <td>5110.000000</td>\n",
              "      <td>4909.000000</td>\n",
              "      <td>5110.000000</td>\n",
              "    </tr>\n",
              "    <tr>\n",
              "      <th>mean</th>\n",
              "      <td>36517.829354</td>\n",
              "      <td>43.226614</td>\n",
              "      <td>0.097456</td>\n",
              "      <td>0.054012</td>\n",
              "      <td>106.147677</td>\n",
              "      <td>28.893237</td>\n",
              "      <td>0.048728</td>\n",
              "    </tr>\n",
              "    <tr>\n",
              "      <th>std</th>\n",
              "      <td>21161.721625</td>\n",
              "      <td>22.612647</td>\n",
              "      <td>0.296607</td>\n",
              "      <td>0.226063</td>\n",
              "      <td>45.283560</td>\n",
              "      <td>7.854067</td>\n",
              "      <td>0.215320</td>\n",
              "    </tr>\n",
              "    <tr>\n",
              "      <th>min</th>\n",
              "      <td>67.000000</td>\n",
              "      <td>0.080000</td>\n",
              "      <td>0.000000</td>\n",
              "      <td>0.000000</td>\n",
              "      <td>55.120000</td>\n",
              "      <td>10.300000</td>\n",
              "      <td>0.000000</td>\n",
              "    </tr>\n",
              "    <tr>\n",
              "      <th>25%</th>\n",
              "      <td>17741.250000</td>\n",
              "      <td>25.000000</td>\n",
              "      <td>0.000000</td>\n",
              "      <td>0.000000</td>\n",
              "      <td>77.245000</td>\n",
              "      <td>23.500000</td>\n",
              "      <td>0.000000</td>\n",
              "    </tr>\n",
              "    <tr>\n",
              "      <th>50%</th>\n",
              "      <td>36932.000000</td>\n",
              "      <td>45.000000</td>\n",
              "      <td>0.000000</td>\n",
              "      <td>0.000000</td>\n",
              "      <td>91.885000</td>\n",
              "      <td>28.100000</td>\n",
              "      <td>0.000000</td>\n",
              "    </tr>\n",
              "    <tr>\n",
              "      <th>75%</th>\n",
              "      <td>54682.000000</td>\n",
              "      <td>61.000000</td>\n",
              "      <td>0.000000</td>\n",
              "      <td>0.000000</td>\n",
              "      <td>114.090000</td>\n",
              "      <td>33.100000</td>\n",
              "      <td>0.000000</td>\n",
              "    </tr>\n",
              "    <tr>\n",
              "      <th>max</th>\n",
              "      <td>72940.000000</td>\n",
              "      <td>82.000000</td>\n",
              "      <td>1.000000</td>\n",
              "      <td>1.000000</td>\n",
              "      <td>271.740000</td>\n",
              "      <td>97.600000</td>\n",
              "      <td>1.000000</td>\n",
              "    </tr>\n",
              "  </tbody>\n",
              "</table>\n",
              "</div>\n",
              "    <div class=\"colab-df-buttons\">\n",
              "\n",
              "  <div class=\"colab-df-container\">\n",
              "    <button class=\"colab-df-convert\" onclick=\"convertToInteractive('df-347fee2a-eb9b-4b44-8370-eadb2d784fb1')\"\n",
              "            title=\"Convert this dataframe to an interactive table.\"\n",
              "            style=\"display:none;\">\n",
              "\n",
              "  <svg xmlns=\"http://www.w3.org/2000/svg\" height=\"24px\" viewBox=\"0 -960 960 960\">\n",
              "    <path d=\"M120-120v-720h720v720H120Zm60-500h600v-160H180v160Zm220 220h160v-160H400v160Zm0 220h160v-160H400v160ZM180-400h160v-160H180v160Zm440 0h160v-160H620v160ZM180-180h160v-160H180v160Zm440 0h160v-160H620v160Z\"/>\n",
              "  </svg>\n",
              "    </button>\n",
              "\n",
              "  <style>\n",
              "    .colab-df-container {\n",
              "      display:flex;\n",
              "      gap: 12px;\n",
              "    }\n",
              "\n",
              "    .colab-df-convert {\n",
              "      background-color: #E8F0FE;\n",
              "      border: none;\n",
              "      border-radius: 50%;\n",
              "      cursor: pointer;\n",
              "      display: none;\n",
              "      fill: #1967D2;\n",
              "      height: 32px;\n",
              "      padding: 0 0 0 0;\n",
              "      width: 32px;\n",
              "    }\n",
              "\n",
              "    .colab-df-convert:hover {\n",
              "      background-color: #E2EBFA;\n",
              "      box-shadow: 0px 1px 2px rgba(60, 64, 67, 0.3), 0px 1px 3px 1px rgba(60, 64, 67, 0.15);\n",
              "      fill: #174EA6;\n",
              "    }\n",
              "\n",
              "    .colab-df-buttons div {\n",
              "      margin-bottom: 4px;\n",
              "    }\n",
              "\n",
              "    [theme=dark] .colab-df-convert {\n",
              "      background-color: #3B4455;\n",
              "      fill: #D2E3FC;\n",
              "    }\n",
              "\n",
              "    [theme=dark] .colab-df-convert:hover {\n",
              "      background-color: #434B5C;\n",
              "      box-shadow: 0px 1px 3px 1px rgba(0, 0, 0, 0.15);\n",
              "      filter: drop-shadow(0px 1px 2px rgba(0, 0, 0, 0.3));\n",
              "      fill: #FFFFFF;\n",
              "    }\n",
              "  </style>\n",
              "\n",
              "    <script>\n",
              "      const buttonEl =\n",
              "        document.querySelector('#df-347fee2a-eb9b-4b44-8370-eadb2d784fb1 button.colab-df-convert');\n",
              "      buttonEl.style.display =\n",
              "        google.colab.kernel.accessAllowed ? 'block' : 'none';\n",
              "\n",
              "      async function convertToInteractive(key) {\n",
              "        const element = document.querySelector('#df-347fee2a-eb9b-4b44-8370-eadb2d784fb1');\n",
              "        const dataTable =\n",
              "          await google.colab.kernel.invokeFunction('convertToInteractive',\n",
              "                                                    [key], {});\n",
              "        if (!dataTable) return;\n",
              "\n",
              "        const docLinkHtml = 'Like what you see? Visit the ' +\n",
              "          '<a target=\"_blank\" href=https://colab.research.google.com/notebooks/data_table.ipynb>data table notebook</a>'\n",
              "          + ' to learn more about interactive tables.';\n",
              "        element.innerHTML = '';\n",
              "        dataTable['output_type'] = 'display_data';\n",
              "        await google.colab.output.renderOutput(dataTable, element);\n",
              "        const docLink = document.createElement('div');\n",
              "        docLink.innerHTML = docLinkHtml;\n",
              "        element.appendChild(docLink);\n",
              "      }\n",
              "    </script>\n",
              "  </div>\n",
              "\n",
              "\n",
              "<div id=\"df-9a5a724c-6601-4525-9e7f-87ceb0c386db\">\n",
              "  <button class=\"colab-df-quickchart\" onclick=\"quickchart('df-9a5a724c-6601-4525-9e7f-87ceb0c386db')\"\n",
              "            title=\"Suggest charts\"\n",
              "            style=\"display:none;\">\n",
              "\n",
              "<svg xmlns=\"http://www.w3.org/2000/svg\" height=\"24px\"viewBox=\"0 0 24 24\"\n",
              "     width=\"24px\">\n",
              "    <g>\n",
              "        <path d=\"M19 3H5c-1.1 0-2 .9-2 2v14c0 1.1.9 2 2 2h14c1.1 0 2-.9 2-2V5c0-1.1-.9-2-2-2zM9 17H7v-7h2v7zm4 0h-2V7h2v10zm4 0h-2v-4h2v4z\"/>\n",
              "    </g>\n",
              "</svg>\n",
              "  </button>\n",
              "\n",
              "<style>\n",
              "  .colab-df-quickchart {\n",
              "      --bg-color: #E8F0FE;\n",
              "      --fill-color: #1967D2;\n",
              "      --hover-bg-color: #E2EBFA;\n",
              "      --hover-fill-color: #174EA6;\n",
              "      --disabled-fill-color: #AAA;\n",
              "      --disabled-bg-color: #DDD;\n",
              "  }\n",
              "\n",
              "  [theme=dark] .colab-df-quickchart {\n",
              "      --bg-color: #3B4455;\n",
              "      --fill-color: #D2E3FC;\n",
              "      --hover-bg-color: #434B5C;\n",
              "      --hover-fill-color: #FFFFFF;\n",
              "      --disabled-bg-color: #3B4455;\n",
              "      --disabled-fill-color: #666;\n",
              "  }\n",
              "\n",
              "  .colab-df-quickchart {\n",
              "    background-color: var(--bg-color);\n",
              "    border: none;\n",
              "    border-radius: 50%;\n",
              "    cursor: pointer;\n",
              "    display: none;\n",
              "    fill: var(--fill-color);\n",
              "    height: 32px;\n",
              "    padding: 0;\n",
              "    width: 32px;\n",
              "  }\n",
              "\n",
              "  .colab-df-quickchart:hover {\n",
              "    background-color: var(--hover-bg-color);\n",
              "    box-shadow: 0 1px 2px rgba(60, 64, 67, 0.3), 0 1px 3px 1px rgba(60, 64, 67, 0.15);\n",
              "    fill: var(--button-hover-fill-color);\n",
              "  }\n",
              "\n",
              "  .colab-df-quickchart-complete:disabled,\n",
              "  .colab-df-quickchart-complete:disabled:hover {\n",
              "    background-color: var(--disabled-bg-color);\n",
              "    fill: var(--disabled-fill-color);\n",
              "    box-shadow: none;\n",
              "  }\n",
              "\n",
              "  .colab-df-spinner {\n",
              "    border: 2px solid var(--fill-color);\n",
              "    border-color: transparent;\n",
              "    border-bottom-color: var(--fill-color);\n",
              "    animation:\n",
              "      spin 1s steps(1) infinite;\n",
              "  }\n",
              "\n",
              "  @keyframes spin {\n",
              "    0% {\n",
              "      border-color: transparent;\n",
              "      border-bottom-color: var(--fill-color);\n",
              "      border-left-color: var(--fill-color);\n",
              "    }\n",
              "    20% {\n",
              "      border-color: transparent;\n",
              "      border-left-color: var(--fill-color);\n",
              "      border-top-color: var(--fill-color);\n",
              "    }\n",
              "    30% {\n",
              "      border-color: transparent;\n",
              "      border-left-color: var(--fill-color);\n",
              "      border-top-color: var(--fill-color);\n",
              "      border-right-color: var(--fill-color);\n",
              "    }\n",
              "    40% {\n",
              "      border-color: transparent;\n",
              "      border-right-color: var(--fill-color);\n",
              "      border-top-color: var(--fill-color);\n",
              "    }\n",
              "    60% {\n",
              "      border-color: transparent;\n",
              "      border-right-color: var(--fill-color);\n",
              "    }\n",
              "    80% {\n",
              "      border-color: transparent;\n",
              "      border-right-color: var(--fill-color);\n",
              "      border-bottom-color: var(--fill-color);\n",
              "    }\n",
              "    90% {\n",
              "      border-color: transparent;\n",
              "      border-bottom-color: var(--fill-color);\n",
              "    }\n",
              "  }\n",
              "</style>\n",
              "\n",
              "  <script>\n",
              "    async function quickchart(key) {\n",
              "      const quickchartButtonEl =\n",
              "        document.querySelector('#' + key + ' button');\n",
              "      quickchartButtonEl.disabled = true;  // To prevent multiple clicks.\n",
              "      quickchartButtonEl.classList.add('colab-df-spinner');\n",
              "      try {\n",
              "        const charts = await google.colab.kernel.invokeFunction(\n",
              "            'suggestCharts', [key], {});\n",
              "      } catch (error) {\n",
              "        console.error('Error during call to suggestCharts:', error);\n",
              "      }\n",
              "      quickchartButtonEl.classList.remove('colab-df-spinner');\n",
              "      quickchartButtonEl.classList.add('colab-df-quickchart-complete');\n",
              "    }\n",
              "    (() => {\n",
              "      let quickchartButtonEl =\n",
              "        document.querySelector('#df-9a5a724c-6601-4525-9e7f-87ceb0c386db button');\n",
              "      quickchartButtonEl.style.display =\n",
              "        google.colab.kernel.accessAllowed ? 'block' : 'none';\n",
              "    })();\n",
              "  </script>\n",
              "</div>\n",
              "\n",
              "    </div>\n",
              "  </div>\n"
            ],
            "text/plain": [
              "                 id          age  hypertension  heart_disease  \\\n",
              "count   5110.000000  5110.000000   5110.000000    5110.000000   \n",
              "mean   36517.829354    43.226614      0.097456       0.054012   \n",
              "std    21161.721625    22.612647      0.296607       0.226063   \n",
              "min       67.000000     0.080000      0.000000       0.000000   \n",
              "25%    17741.250000    25.000000      0.000000       0.000000   \n",
              "50%    36932.000000    45.000000      0.000000       0.000000   \n",
              "75%    54682.000000    61.000000      0.000000       0.000000   \n",
              "max    72940.000000    82.000000      1.000000       1.000000   \n",
              "\n",
              "       avg_glucose_level          bmi       stroke  \n",
              "count        5110.000000  4909.000000  5110.000000  \n",
              "mean          106.147677    28.893237     0.048728  \n",
              "std            45.283560     7.854067     0.215320  \n",
              "min            55.120000    10.300000     0.000000  \n",
              "25%            77.245000    23.500000     0.000000  \n",
              "50%            91.885000    28.100000     0.000000  \n",
              "75%           114.090000    33.100000     0.000000  \n",
              "max           271.740000    97.600000     1.000000  "
            ]
          },
          "execution_count": 2,
          "metadata": {},
          "output_type": "execute_result"
        }
      ],
      "source": [
        "import pandas as pd\n",
        "from sklearn.metrics import roc_curve, roc_auc_score, auc\n",
        "import matplotlib.pyplot as plt\n",
        "import numpy as np\n",
        "from sklearn.metrics import confusion_matrix\n",
        "import seaborn as sns\n",
        "from imblearn.under_sampling import RandomUnderSampler\n",
        "from imblearn.over_sampling import SMOTE, BorderlineSMOTE, ADASYN\n",
        "from imblearn.pipeline import Pipeline\n",
        "from sklearn.neighbors import NearestNeighbors\n",
        "\n",
        "def run_grid_search_with_smote(X_train, y_train, smote_variant, param_grid):\n",
        "    pipeline = Pipeline([\n",
        "        ('smote', smote_variant),\n",
        "        ('model', GradientBoostingClassifier(random_state=42))\n",
        "    ])\n",
        "\n",
        "    grid_search = GridSearchCV(\n",
        "        pipeline,\n",
        "        param_grid=param_grid,\n",
        "        cv=5,\n",
        "        scoring='roc_auc',  # Using F1 score for imbalanced classification\n",
        "        n_jobs=-1\n",
        "    )\n",
        "\n",
        "    grid_search.fit(X_train, y_train)\n",
        "\n",
        "    return grid_search\n",
        "\n",
        "def run_all_smote_grid_searches(X_train, y_train):\n",
        "    smote_variants = {\n",
        "      'SMOTE': SMOTE(random_state=42),\n",
        "      'BorderlineSMOTE': BorderlineSMOTE(random_state=42),\n",
        "      'ADASYN': ADASYN(random_state=42)\n",
        "    }\n",
        "\n",
        "    # Define hyperparameters for grid search\n",
        "    param_grids = {\n",
        "        'ADASYN': {\n",
        "            \"smote__n_neighbors\": [3, 5, 7, 10, 15],\n",
        "            'smote__sampling_strategy': ['minority', 'not majority', 0.5],\n",
        "            \"model__learning_rate\": [0.01, 0.1, 0.2],\n",
        "            \"model__max_depth\": [3, 5, 7],\n",
        "            \"model__subsample\" : [0.8, 0.9, 1]\n",
        "        },\n",
        "        'SMOTE': {\n",
        "            \"smote__k_neighbors\": [3, 5, 7, 10, 15],\n",
        "            \"model__n_estimators\": [50, 100, 150],\n",
        "            \"model__learning_rate\": [0.01, 0.1, 0.2],\n",
        "            \"model__max_depth\": [3, 5, 7],\n",
        "            \"model__subsample\" : [0.8, 0.9, 1]\n",
        "        },\n",
        "        'BorderlineSMOTE': {\n",
        "            \"smote__k_neighbors\": [3, 5, 7, 10, 15],\n",
        "            \"smote__m_neighbors\": [3, 5, 7, 10],\n",
        "            \"smote__kind\": ['borderline-1', 'borderline-2'],\n",
        "            \"model__learning_rate\": [0.01, 0.1, 0.2],\n",
        "            \"model__max_depth\": [3, 5, 7],\n",
        "            \"model__subsample\" : [0.8, 0.9, 1]\n",
        "        }\n",
        "    }\n",
        "\n",
        "    results = {}\n",
        "    for smote_name, smote_variant in smote_variants.items():\n",
        "        param_grid = param_grids[smote_name]\n",
        "        grid_search = run_grid_search_with_smote(X_train, y_train, smote_variant, param_grid)\n",
        "        results[smote_name] = {\n",
        "            'best_params': grid_search.best_params_,\n",
        "            'best_score': grid_search.best_score_,\n",
        "            'best_model': grid_search.best_estimator_\n",
        "        }\n",
        "\n",
        "    # Find the best SMOTE variant based on the highest score\n",
        "    best_smote_variant = max(results, key=lambda k: results[k]['best_score'])\n",
        "    best_result = results[best_smote_variant]\n",
        "\n",
        "    return best_result\n",
        "\n",
        "def get_feature_importances(model, feature_names, ascending=False):\n",
        "    importances = model.feature_importances_\n",
        "\n",
        "    feature_importances = pd.DataFrame({\n",
        "        'Feature': feature_names,\n",
        "        'Importance': importances\n",
        "    }).sort_values(by='Importance', ascending=ascending)\n",
        "\n",
        "    return feature_importances\n",
        "\n",
        "def plot_normalized_confusion_matrix(y_true, y_pred, class_names):\n",
        "    \"\"\"\n",
        "    Plot a normalized confusion matrix.\n",
        "\n",
        "    Parameters:\n",
        "    y_true (array-like): True labels.\n",
        "    y_pred (array-like): Predicted labels.\n",
        "    class_names (list of str): List of class names.\n",
        "    \"\"\"\n",
        "    # Compute confusion matrix\n",
        "    cm = confusion_matrix(y_true, y_pred)\n",
        "    cm_normalized = cm.astype(float) / cm.sum(axis=1)[:, np.newaxis]\n",
        "\n",
        "    # Plot normalized confusion matrix\n",
        "    plt.figure(figsize=(8, 6))\n",
        "    sns.heatmap(cm_normalized, annot=True, fmt='.2f', cmap='Blues', xticklabels=class_names, yticklabels=class_names)\n",
        "    plt.xlabel('Predicted Label')\n",
        "    plt.ylabel('True Label')\n",
        "    plt.title('Normalized Confusion Matrix')\n",
        "    plt.show()\n",
        "\n",
        "def calcuale_optimal_threshold(tpr, fpr, thresholds):\n",
        "  J = tpr - fpr\n",
        "  optimal_idx = J.argmax()\n",
        "  optimal_threshold = thresholds[optimal_idx]\n",
        "\n",
        "  return (optimal_threshold, optimal_idx)\n",
        "\n",
        "def plot_roc_curve(fpr, tpr, roc_auc, optimal_threshold, optimal_idx):\n",
        "  # Plot ROC curve\n",
        "  plt.figure()\n",
        "  plt.plot(fpr, tpr, color='darkorange', lw=2, label='ROC curve (area = %0.2f)' % roc_auc)\n",
        "  plt.plot([0, 1], [0, 1], color='navy', lw=2, linestyle='--')\n",
        "  plt.scatter(fpr[optimal_idx], tpr[optimal_idx], color='red', marker='o', label=f'Optimal Threshold = {optimal_threshold:.6f}')\n",
        "  plt.xlim([0.0, 1.0])\n",
        "  plt.ylim([0.0, 1.05])\n",
        "  plt.xlabel('False Positive Rate')\n",
        "  plt.ylabel('True Positive Rate')\n",
        "  plt.title('Receiver Operating Characteristic')\n",
        "  plt.legend(loc='lower right')\n",
        "  plt.show()\n",
        "\n",
        "def model_perfonance_evaluation(y_test, y_pred):\n",
        "  print(classification_report(y_test, y_pred))\n",
        "  plot_normalized_confusion_matrix(y_test, y_pred, ['no stroke', 'stroke'])\n",
        "\n",
        "def get_search_grid():\n",
        "  gbm = GradientBoostingClassifier(random_state=42)\n",
        "\n",
        "  param_grid = {\n",
        "    \"n_estimators\": [50, 100, 150],\n",
        "    \"learning_rate\": [0.01, 0.1, 0.2],\n",
        "    \"max_depth\": [3, 5, 7],\n",
        "    \"subsample\" : [0.8, 0.9, 1]\n",
        "  }\n",
        "\n",
        "  search_grid = GridSearchCV(param_grid=param_grid, estimator=gbm, cv=5, n_jobs=-1, scoring='roc_auc', verbose=3)\n",
        "\n",
        "  return search_grid\n",
        "\n",
        "def get_search_grid_with_resampled():\n",
        "\n",
        "  pipeline = Pipeline([\n",
        "      ('smote', SMOTE(random_state=42)),\n",
        "      ('model', GradientBoostingClassifier(random_state=42))\n",
        "  ])\n",
        "\n",
        "  param_grid = {\n",
        "    \"smote__k_neighbors\": [3, 5, 7, 10, 15],\n",
        "    \"model__n_estimators\": [50, 100, 150],\n",
        "    \"model__learning_rate\": [0.01, 0.1, 0.2],\n",
        "    \"model__max_depth\": [3, 5, 7],\n",
        "    \"model__subsample\" : [0.8, 0.9, 1]\n",
        "  }\n",
        "\n",
        "  search_grid = GridSearchCV(param_grid=param_grid, estimator=pipeline, cv=5, n_jobs=-1, scoring='roc_auc', verbose=3)\n",
        "\n",
        "  return search_grid\n",
        "\n",
        "\n",
        "stroke_data = pd.read_csv('healthcare-dataset-stroke-data.csv');\n",
        "stroke_data.info()\n",
        "stroke_data.describe()"
      ]
    },
    {
      "cell_type": "code",
      "execution_count": null,
      "metadata": {
        "colab": {
          "base_uri": "https://localhost:8080/"
        },
        "id": "UdLQSK01ltuz",
        "outputId": "4280046b-abba-4c51-9f58-ddb901c37544"
      },
      "outputs": [
        {
          "name": "stdout",
          "output_type": "stream",
          "text": [
            "gender unique values: ['Male' 'Female' 'Other']\n",
            "ever_married unique values: ['Yes' 'No']\n",
            "work_type unique values: ['Private' 'Self-employed' 'Govt_job' 'children' 'Never_worked']\n",
            "Residence_type unique values: ['Urban' 'Rural']\n",
            "smoking_status unique values: ['formerly smoked' 'never smoked' 'smokes' 'Unknown']\n"
          ]
        }
      ],
      "source": [
        "print(\"gender unique values:\", stroke_data['gender'].unique())\n",
        "print(\"ever_married unique values:\", stroke_data['ever_married'].unique())\n",
        "print(\"work_type unique values:\", stroke_data['work_type'].unique())\n",
        "print(\"Residence_type unique values:\", stroke_data['Residence_type'].unique())\n",
        "print(\"smoking_status unique values:\", stroke_data['smoking_status'].unique())"
      ]
    },
    {
      "cell_type": "code",
      "execution_count": null,
      "metadata": {
        "colab": {
          "base_uri": "https://localhost:8080/"
        },
        "id": "OeMCh_JApnWL",
        "outputId": "2d540fda-15bb-4a9c-d3f7-b6a1c5f7bf66"
      },
      "outputs": [
        {
          "name": "stdout",
          "output_type": "stream",
          "text": [
            "stroke\n",
            "0    4861\n",
            "1     249\n",
            "Name: count, dtype: int64\n"
          ]
        }
      ],
      "source": [
        "print(stroke_data['stroke'].value_counts())"
      ]
    },
    {
      "cell_type": "code",
      "execution_count": null,
      "metadata": {
        "colab": {
          "base_uri": "https://localhost:8080/"
        },
        "id": "Q5u1ayYSDWxo",
        "outputId": "d0f7f49b-a7b7-4235-92f4-ae4f3bbedb8b"
      },
      "outputs": [
        {
          "name": "stdout",
          "output_type": "stream",
          "text": [
            "stroke\n",
            "0    4861\n",
            "1     249\n",
            "Name: count, dtype: int64\n"
          ]
        }
      ],
      "source": [
        "print(stroke_data['stroke'].value_counts())"
      ]
    },
    {
      "cell_type": "code",
      "execution_count": null,
      "metadata": {
        "id": "4PCuPm8xyn9R"
      },
      "outputs": [],
      "source": [
        "stroke_data = pd.get_dummies(stroke_data, columns=['gender', 'ever_married', 'work_type', 'Residence_type', 'smoking_status'])"
      ]
    },
    {
      "cell_type": "code",
      "execution_count": null,
      "metadata": {
        "colab": {
          "base_uri": "https://localhost:8080/"
        },
        "id": "xqupagBsCWMt",
        "outputId": "a9389d29-4bdd-48e7-8970-d09724e92783"
      },
      "outputs": [
        {
          "name": "stdout",
          "output_type": "stream",
          "text": [
            "Index(['id', 'age', 'hypertension', 'heart_disease', 'avg_glucose_level',\n",
            "       'bmi', 'stroke', 'gender_Female', 'gender_Male', 'gender_Other',\n",
            "       'ever_married_No', 'ever_married_Yes', 'work_type_Govt_job',\n",
            "       'work_type_Never_worked', 'work_type_Private',\n",
            "       'work_type_Self-employed', 'work_type_children', 'Residence_type_Rural',\n",
            "       'Residence_type_Urban', 'smoking_status_Unknown',\n",
            "       'smoking_status_formerly smoked', 'smoking_status_never smoked',\n",
            "       'smoking_status_smokes'],\n",
            "      dtype='object')\n"
          ]
        }
      ],
      "source": [
        "print(stroke_data.columns)"
      ]
    },
    {
      "cell_type": "code",
      "execution_count": null,
      "metadata": {
        "id": "SP2eh1viHt42"
      },
      "outputs": [],
      "source": [
        "features = stroke_data.drop(columns=['id', 'stroke'])\n",
        "target = stroke_data['stroke'];\n",
        "\n",
        "\n",
        "X_train, X_test, y_train, y_test = train_test_split(features, target, random_state=42, test_size=0.2)"
      ]
    },
    {
      "cell_type": "code",
      "execution_count": null,
      "metadata": {
        "id": "S1ccMbwiwtjz"
      },
      "outputs": [],
      "source": [
        "from sklearn.impute import SimpleImputer\n",
        "\n",
        "imputer = SimpleImputer(strategy='mean')\n",
        "\n",
        "X_train['bmi'] = imputer.fit_transform(X_train[['bmi']])\n",
        "X_test['bmi'] = imputer.transform(X_test[['bmi']])"
      ]
    },
    {
      "cell_type": "code",
      "execution_count": null,
      "metadata": {
        "id": "bF40PIItJeqs"
      },
      "outputs": [],
      "source": [
        "# search_grid = get_search_grid()\n",
        "# search_grid.fit(X_train, y_train)"
      ]
    },
    {
      "cell_type": "code",
      "execution_count": null,
      "metadata": {
        "id": "VghCVzcBM_7P"
      },
      "outputs": [],
      "source": [
        "# print(\"best params\", search_grid.best_params_)\n",
        "# print(\"best score\", search_grid.best_score_)"
      ]
    },
    {
      "cell_type": "code",
      "execution_count": null,
      "metadata": {
        "id": "Pqfg1dwbjbLQ"
      },
      "outputs": [],
      "source": [
        "# # Predict probabilities on the test set\n",
        "# y_probs = search_grid.predict_proba(X_test)[:, 1]\n",
        "\n",
        "# fpr, tpr, thresholds = roc_curve(y_test, y_probs, pos_label=1)\n",
        "# roc_auc = auc(fpr, tpr)\n",
        "\n",
        "# optimal_threshold, optimal_idx = calcuale_optimal_threshold(tpr, fpr, thresholds)\n",
        "# plot_roc_curve(fpr, tpr, roc_auc, optimal_threshold, optimal_idx)\n",
        "\n",
        "# y_pred = (y_probs >= optimal_threshold).astype(int)\n",
        "\n",
        "# model_perfonance_evaluation(y_test, y_pred)"
      ]
    },
    {
      "cell_type": "markdown",
      "metadata": {
        "id": "rfgv4ptmSP3i"
      },
      "source": [
        "it seems that model learn to only detect people without strokes. I will performaing oversampling"
      ]
    },
    {
      "cell_type": "code",
      "execution_count": null,
      "metadata": {
        "id": "5U9_bAGsSdYX"
      },
      "outputs": [],
      "source": [
        "# print('X_train: ', X_train.shape)\n",
        "# print('y_train: ', y_train.shape)\n",
        "\n",
        "# search_grid = run_all_smote_grid_searches(X_train, y_train)\n",
        "# print(\"best params\", search_grid['best_params'])\n",
        "# print(\"best score\", search_grid['best_score'])"
      ]
    },
    {
      "cell_type": "code",
      "execution_count": null,
      "metadata": {
        "id": "ZfiTPNl_dDsz"
      },
      "outputs": [],
      "source": [
        "# # Predict probabilities on the test set\n",
        "# y_probs = search_grid['best_model'].predict_proba(X_test)[:, 1]\n",
        "\n",
        "# fpr, tpr, thresholds = roc_curve(y_test, y_probs, pos_label=1)\n",
        "# roc_auc = auc(fpr, tpr)\n",
        "\n",
        "# optimal_threshold, optimal_idx = calcuale_optimal_threshold(tpr, fpr, thresholds)\n",
        "# plot_roc_curve(fpr, tpr, roc_auc, optimal_threshold, optimal_idx)\n",
        "\n",
        "# y_pred = (y_probs >= optimal_threshold).astype(int)\n",
        "\n",
        "# model_perfonance_evaluation(y_test, y_pred)"
      ]
    },
    {
      "cell_type": "markdown",
      "metadata": {
        "id": "DMBNeZvuMBEW"
      },
      "source": [
        "I see that we are now overfitting the model. So I will perform feature selection to try to recude overfitting. I will only select the 4 best features based on the feature importance. Those features are: age, avg_glucose_level, bmi and smoking_status"
      ]
    },
    {
      "cell_type": "code",
      "execution_count": null,
      "metadata": {
        "colab": {
          "base_uri": "https://localhost:8080/"
        },
        "id": "rbMV0tVoMBr5",
        "outputId": "8e24742a-b743-4228-c00a-fe6ece6212bb"
      },
      "outputs": [
        {
          "name": "stdout",
          "output_type": "stream",
          "text": [
            "X_train_selection features:  Index(['age', 'avg_glucose_level', 'bmi', 'smoking_status_smokes',\n",
            "       'smoking_status_never smoked', 'smoking_status_formerly smoked',\n",
            "       'smoking_status_Unknown'],\n",
            "      dtype='object')\n",
            "X_test_selection features:  Index(['age', 'avg_glucose_level', 'bmi', 'smoking_status_smokes',\n",
            "       'smoking_status_never smoked', 'smoking_status_formerly smoked',\n",
            "       'smoking_status_Unknown'],\n",
            "      dtype='object')\n"
          ]
        }
      ],
      "source": [
        "selected_features = ['age', 'avg_glucose_level', 'bmi', 'smoking_status_smokes', 'smoking_status_never smoked', 'smoking_status_formerly smoked', 'smoking_status_Unknown']\n",
        "X_train_selection = X_train[selected_features]\n",
        "X_test_selection = X_test[selected_features]\n",
        "\n",
        "print('X_train_selection features: ', X_train_selection.columns)\n",
        "print('X_test_selection features: ', X_test_selection.columns)"
      ]
    },
    {
      "cell_type": "code",
      "execution_count": null,
      "metadata": {
        "colab": {
          "background_save": true
        },
        "id": "fBD-a3IgQBI-",
        "outputId": "aeb81516-92e6-4f97-9f88-b77bcf57f043"
      },
      "outputs": [
        {
          "name": "stdout",
          "output_type": "stream",
          "text": [
            "best params {'model__learning_rate': 0.01, 'model__max_depth': 5, 'model__subsample': 0.8, 'smote__k_neighbors': 7, 'smote__kind': 'borderline-1', 'smote__m_neighbors': 5}\n",
            "best score 0.8258187251645369\n"
          ]
        },
        {
          "data": {
            "image/png": "[encoded data removed]",
            "text/plain": [
              "<Figure size 640x480 with 1 Axes>"
            ]
          },
          "metadata": {},
          "output_type": "display_data"
        },
        {
          "name": "stdout",
          "output_type": "stream",
          "text": [
            "              precision    recall  f1-score   support\n",
            "\n",
            "           0       0.99      0.72      0.83       960\n",
            "           1       0.16      0.85      0.27        62\n",
            "\n",
            "    accuracy                           0.72      1022\n",
            "   macro avg       0.57      0.79      0.55      1022\n",
            "weighted avg       0.94      0.72      0.80      1022\n",
            "\n"
          ]
        },
        {
          "data": {
            "image/png": "[encoded data removed]",
            "text/plain": [
              "<Figure size 800x600 with 2 Axes>"
            ]
          },
          "metadata": {},
          "output_type": "display_data"
        }
      ],
      "source": [
        "search_grid = run_all_smote_grid_searches(X_train_selection, y_train)\n",
        "\n",
        "print(\"best params\", search_grid['best_params'])\n",
        "print(\"best score\", search_grid['best_score'])\n",
        "\n",
        "y_probs = search_grid['best_model'].predict_proba(X_test_selection)[:, 1]\n",
        "\n",
        "fpr, tpr, thresholds = roc_curve(y_test, y_probs, pos_label=1)\n",
        "roc_auc = auc(fpr, tpr)\n",
        "\n",
        "optimal_threshold, optimal_idx = calcuale_optimal_threshold(tpr, fpr, thresholds)\n",
        "plot_roc_curve(fpr, tpr, roc_auc, optimal_threshold, optimal_idx)\n",
        "\n",
        "y_pred = (y_probs >= optimal_threshold).astype(int)\n",
        "\n",
        "model_perfonance_evaluation(y_test, y_pred)"
      ]
    }
  ],
  "metadata": {
    "colab": {
      "provenance": [],
      "authorship_tag": "ABX9TyNorsXlEo62VCjeDflqkmct",
      "include_colab_link": true
    },
    "kernelspec": {
      "display_name": "Python 3",
      "name": "python3"
    },
    "language_info": {
      "name": "python"
    }
  },
  "nbformat": 4,
  "nbformat_minor": 0
}